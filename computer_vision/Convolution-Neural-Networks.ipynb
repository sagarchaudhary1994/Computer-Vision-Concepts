{
 "cells": [
  {
   "cell_type": "markdown",
   "id": "d80ed650",
   "metadata": {},
   "source": [
    "# Convolution Neural Networks (CNNs)"
   ]
  },
  {
   "cell_type": "markdown",
   "id": "fbe3d2c6",
   "metadata": {},
   "source": [
    "## Image Classification using MLP"
   ]
  },
  {
   "cell_type": "code",
   "execution_count": null,
   "id": "31c1b126",
   "metadata": {},
   "outputs": [],
   "source": []
  },
  {
   "cell_type": "markdown",
   "id": "89571866",
   "metadata": {},
   "source": [
    "## CNNs Architecture"
   ]
  },
  {
   "cell_type": "code",
   "execution_count": null,
   "id": "a32f04f3",
   "metadata": {},
   "outputs": [],
   "source": []
  },
  {
   "cell_type": "markdown",
   "id": "96c9c5e4",
   "metadata": {},
   "source": [
    "## Basic Components of CNNs"
   ]
  },
  {
   "cell_type": "code",
   "execution_count": null,
   "id": "314b447e",
   "metadata": {},
   "outputs": [],
   "source": []
  },
  {
   "cell_type": "markdown",
   "id": "2080c4e0",
   "metadata": {},
   "source": [
    "## Image Classification using CNNs"
   ]
  },
  {
   "cell_type": "code",
   "execution_count": null,
   "id": "10ef747f",
   "metadata": {},
   "outputs": [],
   "source": []
  },
  {
   "cell_type": "markdown",
   "id": "a17dc6b2",
   "metadata": {},
   "source": [
    "## Add Dropout Layers to avoid Overfitting"
   ]
  },
  {
   "cell_type": "code",
   "execution_count": null,
   "id": "5009509e",
   "metadata": {},
   "outputs": [],
   "source": []
  },
  {
   "cell_type": "markdown",
   "id": "ce09cdd4",
   "metadata": {},
   "source": [
    "## Convolution over Colored Images"
   ]
  },
  {
   "cell_type": "code",
   "execution_count": null,
   "id": "55957657",
   "metadata": {},
   "outputs": [],
   "source": []
  },
  {
   "cell_type": "code",
   "execution_count": null,
   "id": "9c8671f9",
   "metadata": {},
   "outputs": [],
   "source": []
  }
 ],
 "metadata": {
  "kernelspec": {
   "display_name": "Python 3.6.3",
   "language": "python",
   "name": "python3"
  },
  "language_info": {
   "codemirror_mode": {
    "name": "ipython",
    "version": 3
   },
   "file_extension": ".py",
   "mimetype": "text/x-python",
   "name": "python",
   "nbconvert_exporter": "python",
   "pygments_lexer": "ipython3",
   "version": "3.6.3"
  },
  "vscode": {
   "interpreter": {
    "hash": "29acf6d9f664acf050b8cce87cda3e1385a17498cb22700be1ada7befa6fbf5f"
   }
  }
 },
 "nbformat": 4,
 "nbformat_minor": 5
}
