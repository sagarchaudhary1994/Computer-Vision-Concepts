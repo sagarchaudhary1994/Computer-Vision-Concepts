{
 "cells": [
  {
   "cell_type": "code",
   "execution_count": 1,
   "id": "6c15c9dc",
   "metadata": {
    "_cell_guid": "a408010f-0d7b-4570-93c7-13edc4f45cc1",
    "_uuid": "ed433a44-1958-497a-81c8-e19569d398fc",
    "collapsed": false,
    "execution": {
     "iopub.execute_input": "2022-10-25T12:41:28.364773Z",
     "iopub.status.busy": "2022-10-25T12:41:28.364365Z",
     "iopub.status.idle": "2022-10-25T12:41:28.373566Z",
     "shell.execute_reply": "2022-10-25T12:41:28.372637Z"
    },
    "jupyter": {
     "outputs_hidden": false
    },
    "papermill": {
     "duration": 0.015127,
     "end_time": "2022-10-25T12:41:28.375642",
     "exception": false,
     "start_time": "2022-10-25T12:41:28.360515",
     "status": "completed"
    },
    "tags": []
   },
   "outputs": [],
   "source": [
    "import pandas as pd"
   ]
  },
  {
   "cell_type": "code",
   "execution_count": null,
   "id": "a22af3b1",
   "metadata": {
    "papermill": {
     "duration": 0.001063,
     "end_time": "2022-10-25T12:41:28.378423",
     "exception": false,
     "start_time": "2022-10-25T12:41:28.377360",
     "status": "completed"
    },
    "tags": []
   },
   "outputs": [],
   "source": []
  }
 ],
 "metadata": {
  "kernelspec": {
   "display_name": "Python 3",
   "language": "python",
   "name": "python3"
  },
  "language_info": {
   "codemirror_mode": {
    "name": "ipython",
    "version": 3
   },
   "file_extension": ".py",
   "mimetype": "text/x-python",
   "name": "python",
   "nbconvert_exporter": "python",
   "pygments_lexer": "ipython3",
   "version": "3.7.12"
  },
  "papermill": {
   "default_parameters": {},
   "duration": 8.060406,
   "end_time": "2022-10-25T12:41:28.999736",
   "environment_variables": {},
   "exception": null,
   "input_path": "__notebook__.ipynb",
   "output_path": "__notebook__.ipynb",
   "parameters": {},
   "start_time": "2022-10-25T12:41:20.939330",
   "version": "2.3.4"
  }
 },
 "nbformat": 4,
 "nbformat_minor": 5
}
