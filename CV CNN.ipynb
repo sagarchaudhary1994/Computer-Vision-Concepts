{
 "cells": [
  {
   "cell_type": "code",
   "execution_count": 1,
   "id": "d594bee6",
   "metadata": {
    "_cell_guid": "a408010f-0d7b-4570-93c7-13edc4f45cc1",
    "_uuid": "ed433a44-1958-497a-81c8-e19569d398fc",
    "collapsed": false,
    "execution": {
     "iopub.execute_input": "2022-10-25T12:50:16.828571Z",
     "iopub.status.busy": "2022-10-25T12:50:16.828091Z",
     "iopub.status.idle": "2022-10-25T12:50:16.838314Z",
     "shell.execute_reply": "2022-10-25T12:50:16.837280Z"
    },
    "jupyter": {
     "outputs_hidden": false
    },
    "papermill": {
     "duration": 0.016628,
     "end_time": "2022-10-25T12:50:16.840611",
     "exception": false,
     "start_time": "2022-10-25T12:50:16.823983",
     "status": "completed"
    },
    "tags": []
   },
   "outputs": [],
   "source": [
    "import pandas as pd"
   ]
  },
  {
   "cell_type": "code",
   "execution_count": null,
   "id": "caf9176b",
   "metadata": {
    "papermill": {
     "duration": 0.001219,
     "end_time": "2022-10-25T12:50:16.843733",
     "exception": false,
     "start_time": "2022-10-25T12:50:16.842514",
     "status": "completed"
    },
    "tags": []
   },
   "outputs": [],
   "source": []
  }
 ],
 "metadata": {
  "kernelspec": {
   "display_name": "Python 3",
   "language": "python",
   "name": "python3"
  },
  "language_info": {
   "codemirror_mode": {
    "name": "ipython",
    "version": 3
   },
   "file_extension": ".py",
   "mimetype": "text/x-python",
   "name": "python",
   "nbconvert_exporter": "python",
   "pygments_lexer": "ipython3",
   "version": "3.7.12"
  },
  "papermill": {
   "default_parameters": {},
   "duration": 8.803161,
   "end_time": "2022-10-25T12:50:17.466024",
   "environment_variables": {},
   "exception": null,
   "input_path": "__notebook__.ipynb",
   "output_path": "__notebook__.ipynb",
   "parameters": {},
   "start_time": "2022-10-25T12:50:08.662863",
   "version": "2.3.4"
  }
 },
 "nbformat": 4,
 "nbformat_minor": 5
}
